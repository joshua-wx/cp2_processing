{
 "cells": [
  {
   "cell_type": "code",
   "execution_count": 1,
   "metadata": {},
   "outputs": [
    {
     "name": "stderr",
     "output_type": "stream",
     "text": [
      "/g/data2/rr5/vhl548/short/miniconda3/envs/radar/lib/python3.6/site-packages/matplotlib/__init__.py:1405: UserWarning: \n",
      "This call to matplotlib.use() has no effect because the backend has already\n",
      "been chosen; matplotlib.use() must be called *before* pylab, matplotlib.pyplot,\n",
      "or matplotlib.backends is imported for the first time.\n",
      "\n",
      "  warnings.warn(_use_error_msg)\n"
     ]
    }
   ],
   "source": [
    "%matplotlib inline\n",
    "import os\n",
    "import logging\n",
    "import datetime\n",
    "import numpy as np\n",
    "import matplotlib.pyplot as pl\n",
    "import pyart\n",
    "\n",
    "import cpol_processing"
   ]
  },
  {
   "cell_type": "code",
   "execution_count": 2,
   "metadata": {
    "collapsed": true
   },
   "outputs": [],
   "source": [
    "indir = \"/g/data2/rr5/vhl548/CPOL_level_1/2011/20110215\"\n",
    "flist = os.listdir(indir)"
   ]
  },
  {
   "cell_type": "code",
   "execution_count": 3,
   "metadata": {},
   "outputs": [],
   "source": [
    "OUTPATH = \"../notebook/\"\n",
    "OUTPATH_GRID = os.path.join(OUTPATH, 'GRIDDED')\n",
    "FIGURE_CHECK_PATH = os.path.join(OUTPATH, 'FIGURE_CHECK')\n",
    "SOUND_DIR = \"/g/data2/rr5/vhl548/soudings_netcdf/\"\n",
    "LOG_FILE_PATH = \"../notebook/\"\n",
    "\n",
    "if not os.path.isdir(OUTPATH_GRID):\n",
    "    print(\"Creating output figures directory: {}.\".format(OUTPATH_GRID))\n",
    "    os.mkdir(OUTPATH_GRID)\n",
    "if not os.path.isdir(FIGURE_CHECK_PATH):\n",
    "    print(\"Creating output figures directory: {}.\".format(FIGURE_CHECK_PATH))\n",
    "    os.mkdir(FIGURE_CHECK_PATH)"
   ]
  },
  {
   "cell_type": "code",
   "execution_count": 4,
   "metadata": {},
   "outputs": [],
   "source": [
    "# Creating the general log file.\n",
    "logname = \"test.log\"\n",
    "log_file_name = os.path.join(LOG_FILE_PATH, logname)\n",
    "logging.basicConfig(\n",
    "    level=logging.DEBUG,\n",
    "    format='%(asctime)s - %(name)s - %(levelname)s - %(message)s',\n",
    "    filename=log_file_name,\n",
    "    filemode='a+')\n",
    "logger = logging.getLogger(__name__)"
   ]
  },
  {
   "cell_type": "code",
   "execution_count": 5,
   "metadata": {
    "collapsed": true
   },
   "outputs": [],
   "source": [
    "fd = os.path.join(indir, flist[0])"
   ]
  },
  {
   "cell_type": "code",
   "execution_count": 7,
   "metadata": {},
   "outputs": [],
   "source": [
    "# cpol_processing.production_line(fd, OUTPATH, OUTPATH_GRID, FIGURE_CHECK_PATH, SOUND_DIR)"
   ]
  },
  {
   "cell_type": "code",
   "execution_count": 9,
   "metadata": {
    "collapsed": true
   },
   "outputs": [],
   "source": [
    "a = \"\"\"20110215\n",
    "20110217\n",
    "20110224\n",
    "20110225\n",
    "20110308\n",
    "20110309\n",
    "20110310\n",
    "20110314\n",
    "20110318\n",
    "20110322\n",
    "20110326\"\"\""
   ]
  },
  {
   "cell_type": "code",
   "execution_count": 19,
   "metadata": {
    "collapsed": true
   },
   "outputs": [],
   "source": [
    "def fun0(stt, edt):\n",
    "    txt = \"\"\"#!/bin/bash\n",
    "#PBS -P kl02\n",
    "#PBS -q express\n",
    "#PBS -l walltime=2:00:00\n",
    "#PBS -l mem=32GB\n",
    "#PBS -l wd\n",
    "#PBS -l ncpus=16\n",
    "#PBS -lother=gdata2\n",
    "source activate radar\n",
    "python rajin_multiproc_processing.py -s {} -e {} -j 16\"\"\".format(stt, edt)\n",
    "    \n",
    "    myname = \"qlevel1b_correction_{}_{}.pbs\".format(stt, edt)\n",
    "    \n",
    "#     with open(myname, \"w+\") as fid:\n",
    "#         fid.write(txt)\n",
    "    print(myname)\n",
    "    \n",
    "    return None\n",
    "\n"
   ]
  },
  {
   "cell_type": "code",
   "execution_count": 11,
   "metadata": {
    "collapsed": true
   },
   "outputs": [],
   "source": [
    "b = a.splitlines()"
   ]
  },
  {
   "cell_type": "code",
   "execution_count": 20,
   "metadata": {},
   "outputs": [
    {
     "name": "stdout",
     "output_type": "stream",
     "text": [
      "qlevel1b_correction_20110215_20110215.pbs\n",
      "qlevel1b_correction_20110217_20110217.pbs\n",
      "qlevel1b_correction_20110224_20110224.pbs\n",
      "qlevel1b_correction_20110225_20110225.pbs\n",
      "qlevel1b_correction_20110308_20110308.pbs\n",
      "qlevel1b_correction_20110309_20110309.pbs\n",
      "qlevel1b_correction_20110310_20110310.pbs\n",
      "qlevel1b_correction_20110314_20110314.pbs\n",
      "qlevel1b_correction_20110318_20110318.pbs\n",
      "qlevel1b_correction_20110322_20110322.pbs\n",
      "qlevel1b_correction_20110326_20110326.pbs\n"
     ]
    },
    {
     "data": {
      "text/plain": [
       "[None, None, None, None, None, None, None, None, None, None, None]"
      ]
     },
     "execution_count": 20,
     "metadata": {},
     "output_type": "execute_result"
    }
   ],
   "source": [
    "[fun0(e, e) for e in b]"
   ]
  },
  {
   "cell_type": "code",
   "execution_count": null,
   "metadata": {
    "collapsed": true
   },
   "outputs": [],
   "source": []
  }
 ],
 "metadata": {
  "kernelspec": {
   "display_name": "Python [conda env:radar]",
   "language": "python",
   "name": "conda-env-radar-py"
  },
  "language_info": {
   "codemirror_mode": {
    "name": "ipython",
    "version": 3
   },
   "file_extension": ".py",
   "mimetype": "text/x-python",
   "name": "python",
   "nbconvert_exporter": "python",
   "pygments_lexer": "ipython3",
   "version": "3.6.1"
  }
 },
 "nbformat": 4,
 "nbformat_minor": 2
}
