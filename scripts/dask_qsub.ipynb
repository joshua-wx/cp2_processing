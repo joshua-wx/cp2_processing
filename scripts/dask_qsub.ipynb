{
 "cells": [
  {
   "cell_type": "code",
   "execution_count": 5,
   "metadata": {},
   "outputs": [
    {
     "name": "stdout",
     "output_type": "stream",
     "text": [
      "/home/548/jss548/dev/tmp/qsub_cp2_level1b/cp2_l1b_2014_m11_m11.pbs\n",
      "runing /home/548/jss548/dev/tmp/qsub_cp2_level1b/cp2_l1b_2014_m11_m11.pbs\n",
      "b'14589734.gadi-pbs\\n'\n",
      "finished qsub generate for  1 jobs\n"
     ]
    }
   ],
   "source": [
    "import glob\n",
    "import subprocess\n",
    "import calendar\n",
    "\n",
    "def gen_qsub(radar_start='', radar_end='', ncpu=16, walltime=10, py_script='',queue_mode=''):\n",
    "    #build header\n",
    "    conf_txt = \\\n",
    "    \"\"\"#!/bin/bash\n",
    "    #PBS -P kl02\n",
    "    #PBS -q {qmode}\n",
    "    #PBS -l walltime={time}:00:00\n",
    "    #PBS -l mem={mem}GB\n",
    "    #PBS -l wd\n",
    "    #PBS -l ncpus={cpu}\n",
    "    #PBS -l jobfs=150GB\n",
    "    #PBS -m abe\n",
    "    #PBS -l storage=gdata/rq0+gdata/kl02+gdata/en0+gdata/hj10+gdata/ub4\n",
    "    export PATH=\"/g/data/en0/jss548/miniconda3:$PATH\"\n",
    "    source activate radar-dev\n",
    "    python {python_script} -s {d1} -e {d2}\n",
    "    \"\"\".format(time=walltime, cpu=ncpu, mem=int(ncpu*2), d1=radar_start, d2=radar_end, python_script=py_script, qmode=queue_mode)\n",
    "    return conf_txt\n",
    "\n",
    "#main function\n",
    "\n",
    "\n",
    "#paths\n",
    "qsub_path    = \"/home/548/jss548/dev/tmp/qsub_cp2_level1b\"\n",
    "py_script    = '/home/548/jss548/dev/projects/CP-2/cp2_processing/scripts/dask_pack.py' #running daily unpack/convert/repack instead of yearly\n",
    "run_qsub_cmd = \"qsub -k oe\"\n",
    "ncpu         = 16\n",
    "walltime     = 24\n",
    "start_year   = 2014\n",
    "end_year     = 2014\n",
    "month_list   = [[11,11]]#[[1,1],[2,2],[3,3],[4,4],[5,5],[6,6],[7,7],[8,8],[9,9],[10,10],[11,11],[12,12]]\n",
    "run_flag     = True\n",
    "qmode        = 'normal'\n",
    "\n",
    "count = 0\n",
    "for year in range(start_year, end_year+1):        \n",
    "    for i, month_set in enumerate(month_list):\n",
    "\n",
    "        #generate qsub for wuater sets\n",
    "        month_end_day = calendar.monthrange(year, month_set[1])[1]\n",
    "        start_date = str(year) + str(month_set[0]).zfill(2) + '01'\n",
    "        end_date   = str(year) + str(month_set[1]).zfill(2) + str(month_end_day)\n",
    "\n",
    "        f     = gen_qsub(start_date, end_date, ncpu, walltime, py_script, qmode)\n",
    "        fname = '/'.join([qsub_path, \"cp2_l1b_%04i_m%i_m%i.pbs\" % (year, month_set[0], month_set[1])])\n",
    "        print(fname)\n",
    "        with open(fname, 'w') as fid:\n",
    "            fid.write(f)\n",
    "        count += 1\n",
    "        if run_flag == True:\n",
    "            cmd           = ' '.join([run_qsub_cmd,fname])\n",
    "            process       = subprocess.Popen(cmd.split(), stdout=subprocess.PIPE)\n",
    "            output, error = process.communicate()\n",
    "            print('runing ' + fname)\n",
    "            print(output)\n",
    "\n",
    "print('finished qsub generate for ',str(count), 'jobs')"
   ]
  },
  {
   "cell_type": "code",
   "execution_count": null,
   "metadata": {},
   "outputs": [],
   "source": []
  }
 ],
 "metadata": {
  "kernelspec": {
   "display_name": "Python 3",
   "language": "python",
   "name": "python3"
  },
  "language_info": {
   "codemirror_mode": {
    "name": "ipython",
    "version": 3
   },
   "file_extension": ".py",
   "mimetype": "text/x-python",
   "name": "python",
   "nbconvert_exporter": "python",
   "pygments_lexer": "ipython3",
   "version": "3.8.5"
  }
 },
 "nbformat": 4,
 "nbformat_minor": 4
}
